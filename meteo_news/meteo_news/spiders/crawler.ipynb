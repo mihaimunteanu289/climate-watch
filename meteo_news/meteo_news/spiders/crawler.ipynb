{
 "cells": [
  {
   "cell_type": "code",
   "execution_count": null,
   "id": "be23342c-f8d4-4023-89c2-a996c0faed98",
   "metadata": {},
   "outputs": [],
   "source": [
    "!scrapy crawl MeteoSpider"
   ]
  },
  {
   "cell_type": "code",
   "execution_count": null,
   "id": "48009163-f3c2-4850-917a-142ea1017ed5",
   "metadata": {},
   "outputs": [],
   "source": []
  }
 ],
 "metadata": {
  "kernelspec": {
   "display_name": "Python 3 (ipykernel)",
   "language": "python",
   "name": "python3"
  },
  "language_info": {
   "codemirror_mode": {
    "name": "ipython",
    "version": 3
   },
   "file_extension": ".py",
   "mimetype": "text/x-python",
   "name": "python",
   "nbconvert_exporter": "python",
   "pygments_lexer": "ipython3",
   "version": "3.10.8"
  }
 },
 "nbformat": 4,
 "nbformat_minor": 5
}
