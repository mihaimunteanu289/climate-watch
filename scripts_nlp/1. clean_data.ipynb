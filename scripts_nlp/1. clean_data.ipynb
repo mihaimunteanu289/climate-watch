{
 "cells": [
  {
   "cell_type": "markdown",
   "id": "ae6cbdd6-f587-4149-8708-c4fecda6d081",
   "metadata": {},
   "source": [
    "### Import libraries"
   ]
  },
  {
   "cell_type": "code",
   "execution_count": 1,
   "id": "52032630-bc3b-4bcd-abc3-5e76d7b66bc7",
   "metadata": {},
   "outputs": [],
   "source": [
    "import pandas as pd\n",
    "\n",
    "from unidecode import unidecode"
   ]
  },
  {
   "cell_type": "markdown",
   "id": "abd5608e-fa57-40b7-abfd-09d17b8f651d",
   "metadata": {},
   "source": [
    "### Read data"
   ]
  },
  {
   "cell_type": "code",
   "execution_count": 2,
   "id": "8b880037-35e3-4eef-b2a4-152821d3da76",
   "metadata": {},
   "outputs": [],
   "source": [
    "df = pd.read_json('../data/data_crawl/meteo_news_updated.json')"
   ]
  },
  {
   "cell_type": "markdown",
   "id": "de35627c-4b84-48fd-9027-924ad0ff292a",
   "metadata": {},
   "source": [
    "### Data inspection"
   ]
  },
  {
   "cell_type": "markdown",
   "id": "2a8137b7-f396-4559-8791-cc7ff59b9792",
   "metadata": {},
   "source": [
    "Check dataframe for missing values"
   ]
  },
  {
   "cell_type": "code",
   "execution_count": 3,
   "id": "c3e9a0c9-1ef9-4f60-8792-62f57a2db78c",
   "metadata": {},
   "outputs": [
    {
     "data": {
      "text/html": [
       "<div>\n",
       "<style scoped>\n",
       "    .dataframe tbody tr th:only-of-type {\n",
       "        vertical-align: middle;\n",
       "    }\n",
       "\n",
       "    .dataframe tbody tr th {\n",
       "        vertical-align: top;\n",
       "    }\n",
       "\n",
       "    .dataframe thead th {\n",
       "        text-align: right;\n",
       "    }\n",
       "</style>\n",
       "<table border=\"1\" class=\"dataframe\">\n",
       "  <thead>\n",
       "    <tr style=\"text-align: right;\">\n",
       "      <th></th>\n",
       "      <th>article_url</th>\n",
       "      <th>article_title</th>\n",
       "      <th>article_lead</th>\n",
       "      <th>article_text</th>\n",
       "      <th>article_date</th>\n",
       "    </tr>\n",
       "  </thead>\n",
       "  <tbody>\n",
       "    <tr>\n",
       "      <th>887</th>\n",
       "      <td>https://stirileprotv.ro/stiri/vremea/vremea-as...</td>\n",
       "      <td>Vremea astăzi, 5 iulie. Țara se împarte între ...</td>\n",
       "      <td>None</td>\n",
       "      <td>[Vremea în țară, În Dobrogea şi Bărăgan, la am...</td>\n",
       "      <td>05-07-2022 07:10</td>\n",
       "    </tr>\n",
       "    <tr>\n",
       "      <th>942</th>\n",
       "      <td>https://stirileprotv.ro/stiri/vremea/vremea-as...</td>\n",
       "      <td>Vremea astăzi, 11 iunie. Prognoza meteo pentru...</td>\n",
       "      <td>None</td>\n",
       "      <td>[\\nSursa: , \\n, \\nEtichete:\\n, ,\\n, ,\\n, ,\\n, ...</td>\n",
       "      <td>11-06-2022 07:19</td>\n",
       "    </tr>\n",
       "    <tr>\n",
       "      <th>1291</th>\n",
       "      <td>https://stirileprotv.ro/stiri/vremea/vremea-12...</td>\n",
       "      <td>Vremea, 12 Octombrie. Vremea se menține deoseb...</td>\n",
       "      <td>None</td>\n",
       "      <td>[ ,  Vreme ceva mai bună găsim doar în vest, î...</td>\n",
       "      <td>12-10-2021 07:24</td>\n",
       "    </tr>\n",
       "    <tr>\n",
       "      <th>2400</th>\n",
       "      <td>https://vacantalamunte.stirileprotv.ro/stiri/v...</td>\n",
       "      <td>None</td>\n",
       "      <td>None</td>\n",
       "      <td>[]</td>\n",
       "      <td></td>\n",
       "    </tr>\n",
       "    <tr>\n",
       "      <th>2435</th>\n",
       "      <td>https://vacantalamunte.stirileprotv.ro/stiri/n...</td>\n",
       "      <td>None</td>\n",
       "      <td>None</td>\n",
       "      <td>[]</td>\n",
       "      <td></td>\n",
       "    </tr>\n",
       "    <tr>\n",
       "      <th>3367</th>\n",
       "      <td>https://vacantalamare.stirileprotv.ro/stiri/ma...</td>\n",
       "      <td>None</td>\n",
       "      <td>None</td>\n",
       "      <td>[]</td>\n",
       "      <td></td>\n",
       "    </tr>\n",
       "    <tr>\n",
       "      <th>4149</th>\n",
       "      <td>https://vacantalamunte.stirileprotv.ro/stiri/s...</td>\n",
       "      <td>None</td>\n",
       "      <td>None</td>\n",
       "      <td>[]</td>\n",
       "      <td></td>\n",
       "    </tr>\n",
       "    <tr>\n",
       "      <th>6009</th>\n",
       "      <td>https://stirileprotv.ro/stiri/meteo/afla-cum-e...</td>\n",
       "      <td>Afla cum e vremea in Romania din ora in ora</td>\n",
       "      <td>None</td>\n",
       "      <td>[Sursa: ANM, \\nSursa: , \\n, \\nEtichete:\\n, ,\\n...</td>\n",
       "      <td>26-10-2011 20:02</td>\n",
       "    </tr>\n",
       "    <tr>\n",
       "      <th>6906</th>\n",
       "      <td>https://stirileprotv.ro/stiri/meteo/vom-avea-t...</td>\n",
       "      <td>Vom avea temperaturi de peste 33 de grade in s...</td>\n",
       "      <td>None</td>\n",
       "      <td>[\\nMasa de aer cald, tropical, va domina jumat...</td>\n",
       "      <td>23-05-2009 16:33</td>\n",
       "    </tr>\n",
       "  </tbody>\n",
       "</table>\n",
       "</div>"
      ],
      "text/plain": [
       "                                            article_url  \\\n",
       "887   https://stirileprotv.ro/stiri/vremea/vremea-as...   \n",
       "942   https://stirileprotv.ro/stiri/vremea/vremea-as...   \n",
       "1291  https://stirileprotv.ro/stiri/vremea/vremea-12...   \n",
       "2400  https://vacantalamunte.stirileprotv.ro/stiri/v...   \n",
       "2435  https://vacantalamunte.stirileprotv.ro/stiri/n...   \n",
       "3367  https://vacantalamare.stirileprotv.ro/stiri/ma...   \n",
       "4149  https://vacantalamunte.stirileprotv.ro/stiri/s...   \n",
       "6009  https://stirileprotv.ro/stiri/meteo/afla-cum-e...   \n",
       "6906  https://stirileprotv.ro/stiri/meteo/vom-avea-t...   \n",
       "\n",
       "                                          article_title article_lead  \\\n",
       "887   Vremea astăzi, 5 iulie. Țara se împarte între ...         None   \n",
       "942   Vremea astăzi, 11 iunie. Prognoza meteo pentru...         None   \n",
       "1291  Vremea, 12 Octombrie. Vremea se menține deoseb...         None   \n",
       "2400                                               None         None   \n",
       "2435                                               None         None   \n",
       "3367                                               None         None   \n",
       "4149                                               None         None   \n",
       "6009        Afla cum e vremea in Romania din ora in ora         None   \n",
       "6906  Vom avea temperaturi de peste 33 de grade in s...         None   \n",
       "\n",
       "                                           article_text      article_date  \n",
       "887   [Vremea în țară, În Dobrogea şi Bărăgan, la am...  05-07-2022 07:10  \n",
       "942   [\\nSursa: , \\n, \\nEtichete:\\n, ,\\n, ,\\n, ,\\n, ...  11-06-2022 07:19  \n",
       "1291  [ ,  Vreme ceva mai bună găsim doar în vest, î...  12-10-2021 07:24  \n",
       "2400                                                 []                    \n",
       "2435                                                 []                    \n",
       "3367                                                 []                    \n",
       "4149                                                 []                    \n",
       "6009  [Sursa: ANM, \\nSursa: , \\n, \\nEtichete:\\n, ,\\n...  26-10-2011 20:02  \n",
       "6906  [\\nMasa de aer cald, tropical, va domina jumat...  23-05-2009 16:33  "
      ]
     },
     "execution_count": 3,
     "metadata": {},
     "output_type": "execute_result"
    }
   ],
   "source": [
    "nan_df = df[df.isna().any(axis=1)]\n",
    "nan_df"
   ]
  },
  {
   "cell_type": "code",
   "execution_count": 4,
   "id": "3ffd2ffb-2dd4-4dd1-8a8a-ee0e1d8e2511",
   "metadata": {},
   "outputs": [
    {
     "data": {
      "text/plain": [
       "(9, 5)"
      ]
     },
     "execution_count": 4,
     "metadata": {},
     "output_type": "execute_result"
    }
   ],
   "source": [
    "# Check shape\n",
    "nan_df.shape"
   ]
  },
  {
   "cell_type": "code",
   "execution_count": 5,
   "id": "aa372f62-ec3e-44d6-867e-729178d9984a",
   "metadata": {},
   "outputs": [],
   "source": [
    "# After reviewing those articles, we have determined that the URL is broken, the article has been deleted, and so on. \n",
    "# Therefore, we have decided to remove them, as they constitute only a small percentage of our dataframe."
   ]
  },
  {
   "cell_type": "markdown",
   "id": "279c4590-4a6f-4191-9c74-34925e041c4a",
   "metadata": {},
   "source": [
    "Drop the NaN's"
   ]
  },
  {
   "cell_type": "code",
   "execution_count": 6,
   "id": "5cba0790-e289-4fcb-a98e-7f154e8da12d",
   "metadata": {},
   "outputs": [],
   "source": [
    "df.dropna(inplace=True)"
   ]
  },
  {
   "cell_type": "markdown",
   "id": "c0088dc9-f580-4821-ac84-ba5828f67778",
   "metadata": {},
   "source": [
    "Convert \"article_date\" to datetime datatype with pandas"
   ]
  },
  {
   "cell_type": "code",
   "execution_count": 7,
   "id": "69106118-aafe-4bbb-9c4e-d81ebb4db0e0",
   "metadata": {},
   "outputs": [],
   "source": [
    "df['article_date'] = pd.to_datetime(df['article_date'], format='%d-%m-%Y %H:%M')\n",
    "\n",
    "# Sort values by article_date\n",
    "df = df.sort_values('article_date').reset_index(drop=True)"
   ]
  },
  {
   "cell_type": "markdown",
   "id": "1051510c-9b4b-486f-a06e-b07a3a2cdbbc",
   "metadata": {},
   "source": [
    "Check dataframe shape"
   ]
  },
  {
   "cell_type": "code",
   "execution_count": 8,
   "id": "c30000ab-f7c6-4cd6-a71f-e718b4d6641c",
   "metadata": {},
   "outputs": [
    {
     "data": {
      "text/plain": [
       "(7088, 5)"
      ]
     },
     "execution_count": 8,
     "metadata": {},
     "output_type": "execute_result"
    }
   ],
   "source": [
    "df.shape"
   ]
  },
  {
   "cell_type": "code",
   "execution_count": 9,
   "id": "26127c6d-5ca4-41dd-b258-744bd55c32c9",
   "metadata": {},
   "outputs": [],
   "source": [
    "# Our dataset is pretty consistent in order to build a POC or to prove our hypothesis"
   ]
  },
  {
   "cell_type": "markdown",
   "id": "fb9fb61b-078e-4dd4-8783-178e2f25b531",
   "metadata": {},
   "source": [
    "Check dtypes for each column in our dataframe"
   ]
  },
  {
   "cell_type": "code",
   "execution_count": 10,
   "id": "e9b454a8-77b1-454b-8871-a8afc184ad89",
   "metadata": {},
   "outputs": [
    {
     "name": "stdout",
     "output_type": "stream",
     "text": [
      "<class 'pandas.core.frame.DataFrame'>\n",
      "RangeIndex: 7088 entries, 0 to 7087\n",
      "Data columns (total 5 columns):\n",
      " #   Column         Non-Null Count  Dtype         \n",
      "---  ------         --------------  -----         \n",
      " 0   article_url    7088 non-null   object        \n",
      " 1   article_title  7088 non-null   object        \n",
      " 2   article_lead   7088 non-null   object        \n",
      " 3   article_text   7088 non-null   object        \n",
      " 4   article_date   7088 non-null   datetime64[ns]\n",
      "dtypes: datetime64[ns](1), object(4)\n",
      "memory usage: 277.0+ KB\n"
     ]
    }
   ],
   "source": [
    "df.info()"
   ]
  },
  {
   "cell_type": "markdown",
   "id": "f04c5b4e-c07c-4281-84ba-134ab7773f92",
   "metadata": {},
   "source": [
    "Remove useless elements from article_text"
   ]
  },
  {
   "cell_type": "code",
   "execution_count": 11,
   "id": "58333a31-5f09-47c2-862c-1204715a6ce4",
   "metadata": {},
   "outputs": [],
   "source": [
    "def remove_sursa(text_list):\n",
    "    for i in range(len(text_list)):\n",
    "        if text_list[i].startswith('\\nSursa:'):\n",
    "            return text_list[:i]\n",
    "    return text_list\n",
    "\n",
    "df['article_text'] = df['article_text'].apply(remove_sursa)"
   ]
  },
  {
   "cell_type": "markdown",
   "id": "79606d13-d002-4b77-b44e-f9558a1b280c",
   "metadata": {},
   "source": [
    "Clean text"
   ]
  },
  {
   "cell_type": "code",
   "execution_count": 12,
   "id": "0508bf8b-d6cc-442e-a01f-d89ba9d272bb",
   "metadata": {},
   "outputs": [],
   "source": [
    "def clean_text_list(text_list):\n",
    "    cleaned_list = [text.replace('\\xa0', '').strip() for text in text_list if text.strip() != '']\n",
    "    return cleaned_list\n",
    "\n",
    "df['article_text'] = df['article_text'].apply(clean_text_list)\n",
    "\n",
    "# Join sentences\n",
    "df['article_text'] = df['article_text'].apply(lambda sentences: ' '.join(sentences))"
   ]
  },
  {
   "cell_type": "markdown",
   "id": "2ba64274-5811-40de-ab4f-6e9971d87bba",
   "metadata": {},
   "source": [
    "Drop NaN's"
   ]
  },
  {
   "cell_type": "code",
   "execution_count": 13,
   "id": "6bdb986c-b3b3-443f-a423-d9740f408681",
   "metadata": {},
   "outputs": [],
   "source": [
    "df.dropna(inplace=True)"
   ]
  },
  {
   "cell_type": "markdown",
   "id": "f4c896c4-c476-4f41-934a-26afaf8f7197",
   "metadata": {},
   "source": [
    "### Export cleaned dataset"
   ]
  },
  {
   "cell_type": "code",
   "execution_count": 14,
   "id": "01375f67-0b18-41b7-945c-dedc237f5b20",
   "metadata": {},
   "outputs": [],
   "source": [
    "df.to_excel('../data/data_crawl/meteo_news_cleaned.xlsx', index=False)"
   ]
  },
  {
   "cell_type": "code",
   "execution_count": null,
   "id": "3b208c91-c5ac-4225-90b3-2a0f1ed0b696",
   "metadata": {},
   "outputs": [],
   "source": []
  }
 ],
 "metadata": {
  "kernelspec": {
   "display_name": "Python 3 (ipykernel)",
   "language": "python",
   "name": "python3"
  },
  "language_info": {
   "codemirror_mode": {
    "name": "ipython",
    "version": 3
   },
   "file_extension": ".py",
   "mimetype": "text/x-python",
   "name": "python",
   "nbconvert_exporter": "python",
   "pygments_lexer": "ipython3",
   "version": "3.10.8"
  }
 },
 "nbformat": 4,
 "nbformat_minor": 5
}
