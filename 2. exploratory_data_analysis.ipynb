{
 "cells": [
  {
   "cell_type": "code",
   "execution_count": null,
   "id": "a67bb0f2-a69d-4eee-9bb8-8ccb199b5e2a",
   "metadata": {},
   "outputs": [],
   "source": [
    "len(set(flattened_list))"
   ]
  },
  {
   "cell_type": "code",
   "execution_count": null,
   "id": "e4d4538f-8e7b-406d-9b04-7b8a2c1a3f01",
   "metadata": {},
   "outputs": [],
   "source": [
    "from collections import Counter\n",
    "\n",
    "elements = df_preprocessed['article_text_phenomen_lemma'].to_list()\n",
    "flattened_list = [item for sublist in elements for item in sublist]\n",
    "element_counts = Counter(flattened_list)\n",
    "\n",
    "element_counts"
   ]
  }
 ],
 "metadata": {
  "kernelspec": {
   "display_name": "Python 3 (ipykernel)",
   "language": "python",
   "name": "python3"
  },
  "language_info": {
   "codemirror_mode": {
    "name": "ipython",
    "version": 3
   },
   "file_extension": ".py",
   "mimetype": "text/x-python",
   "name": "python",
   "nbconvert_exporter": "python",
   "pygments_lexer": "ipython3",
   "version": "3.10.8"
  }
 },
 "nbformat": 4,
 "nbformat_minor": 5
}
