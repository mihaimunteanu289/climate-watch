{
 "cells": [
  {
   "cell_type": "markdown",
   "id": "1398d548-0d61-464d-8937-5ffcadf120ab",
   "metadata": {},
   "source": [
    "### Import libraries"
   ]
  },
  {
   "cell_type": "code",
   "execution_count": 1,
   "id": "f33a2cbe-dc41-490f-ba2c-cf7cffe1a29e",
   "metadata": {},
   "outputs": [],
   "source": [
    "import pandas as pd\n",
    "\n",
    "pd.set_option('display.max_columns', None)  # None means unlimited columns"
   ]
  },
  {
   "cell_type": "markdown",
   "id": "32958f77-8f32-43bf-abbb-7f3c1d9f67e9",
   "metadata": {},
   "source": [
    "### Read dataframe"
   ]
  },
  {
   "cell_type": "code",
   "execution_count": 2,
   "id": "dc3b15a8-0030-4d6e-8c84-351bc2ece2e3",
   "metadata": {},
   "outputs": [],
   "source": [
    "df = pd.read_csv(\"../data/datasets/dataset_merged.csv\")"
   ]
  },
  {
   "cell_type": "markdown",
   "id": "5e0d6692-b786-4e93-a599-842a085e022c",
   "metadata": {},
   "source": [
    "### Data inspection"
   ]
  },
  {
   "cell_type": "code",
   "execution_count": 3,
   "id": "9570e7e7-cc22-45eb-92d7-af8dd4b886f8",
   "metadata": {},
   "outputs": [],
   "source": [
    "initial_rows = df.shape[0]\n",
    "initial_cols = df.shape[1]"
   ]
  },
  {
   "cell_type": "code",
   "execution_count": 4,
   "id": "b6f5d83a-7acd-4efd-87ec-15faab1adf8f",
   "metadata": {},
   "outputs": [
    {
     "name": "stdout",
     "output_type": "stream",
     "text": [
      "<class 'pandas.core.frame.DataFrame'>\n",
      "RangeIndex: 25864 entries, 0 to 25863\n",
      "Data columns (total 13 columns):\n",
      " #   Column                                  Non-Null Count  Dtype  \n",
      "---  ------                                  --------------  -----  \n",
      " 0   Luna/Zi                                 25864 non-null  object \n",
      " 1   County                                  25864 non-null  object \n",
      " 2   42i - NO2_Valoare [µg/m³]               9682 non-null   float64\n",
      " 3   43i - SO2_Valoare [µg/m³]               10839 non-null  float64\n",
      " 4   48i - CO_Valoare [mg/m³]                8367 non-null   float64\n",
      " 5   GRAV. 10 - PM 10_Valoare [µg/m³]        24055 non-null  float64\n",
      " 6   GRAV. 2.5 - PM 2.5_Valoare [µg/m³]      18154 non-null  float64\n",
      " 7   MTX - Presiunea aerului_Valoare [mbar]  25431 non-null  float64\n",
      " 8   MTX - Temperatura aer_Valoare [°C]      25645 non-null  float64\n",
      " 9   MTX - Umiditate relativa_Valoare [%]    25129 non-null  float64\n",
      " 10  article_date                            25864 non-null  object \n",
      " 11  region                                  25864 non-null  object \n",
      " 12  phenomena                               25864 non-null  object \n",
      "dtypes: float64(8), object(5)\n",
      "memory usage: 2.6+ MB\n"
     ]
    }
   ],
   "source": [
    "# Check for datatypes\n",
    "df.info()"
   ]
  },
  {
   "cell_type": "code",
   "execution_count": 5,
   "id": "81e9b390-9440-4e1a-97c4-59a3df07f58b",
   "metadata": {},
   "outputs": [
    {
     "data": {
      "text/html": [
       "<div>\n",
       "<style scoped>\n",
       "    .dataframe tbody tr th:only-of-type {\n",
       "        vertical-align: middle;\n",
       "    }\n",
       "\n",
       "    .dataframe tbody tr th {\n",
       "        vertical-align: top;\n",
       "    }\n",
       "\n",
       "    .dataframe thead th {\n",
       "        text-align: right;\n",
       "    }\n",
       "</style>\n",
       "<table border=\"1\" class=\"dataframe\">\n",
       "  <thead>\n",
       "    <tr style=\"text-align: right;\">\n",
       "      <th></th>\n",
       "      <th>count</th>\n",
       "      <th>mean</th>\n",
       "      <th>std</th>\n",
       "      <th>min</th>\n",
       "      <th>25%</th>\n",
       "      <th>50%</th>\n",
       "      <th>75%</th>\n",
       "      <th>max</th>\n",
       "    </tr>\n",
       "  </thead>\n",
       "  <tbody>\n",
       "    <tr>\n",
       "      <th>42i - NO2_Valoare [µg/m³]</th>\n",
       "      <td>9682.0</td>\n",
       "      <td>20.781629</td>\n",
       "      <td>13.629018</td>\n",
       "      <td>-6.790000</td>\n",
       "      <td>10.562500</td>\n",
       "      <td>17.750000</td>\n",
       "      <td>27.751812</td>\n",
       "      <td>171.540000</td>\n",
       "    </tr>\n",
       "    <tr>\n",
       "      <th>43i - SO2_Valoare [µg/m³]</th>\n",
       "      <td>10839.0</td>\n",
       "      <td>8.051944</td>\n",
       "      <td>4.384233</td>\n",
       "      <td>-0.275000</td>\n",
       "      <td>4.960000</td>\n",
       "      <td>6.746667</td>\n",
       "      <td>10.601667</td>\n",
       "      <td>105.010000</td>\n",
       "    </tr>\n",
       "    <tr>\n",
       "      <th>48i - CO_Valoare [mg/m³]</th>\n",
       "      <td>8367.0</td>\n",
       "      <td>0.678921</td>\n",
       "      <td>0.492437</td>\n",
       "      <td>-0.303333</td>\n",
       "      <td>0.390000</td>\n",
       "      <td>0.570000</td>\n",
       "      <td>0.812500</td>\n",
       "      <td>5.020000</td>\n",
       "    </tr>\n",
       "    <tr>\n",
       "      <th>GRAV. 10 - PM 10_Valoare [µg/m³]</th>\n",
       "      <td>24055.0</td>\n",
       "      <td>26.929215</td>\n",
       "      <td>14.887876</td>\n",
       "      <td>0.970000</td>\n",
       "      <td>17.260000</td>\n",
       "      <td>23.960000</td>\n",
       "      <td>32.855000</td>\n",
       "      <td>230.285714</td>\n",
       "    </tr>\n",
       "    <tr>\n",
       "      <th>GRAV. 2.5 - PM 2.5_Valoare [µg/m³]</th>\n",
       "      <td>18154.0</td>\n",
       "      <td>17.087652</td>\n",
       "      <td>12.181133</td>\n",
       "      <td>0.000000</td>\n",
       "      <td>9.610000</td>\n",
       "      <td>13.960000</td>\n",
       "      <td>20.890000</td>\n",
       "      <td>198.310000</td>\n",
       "    </tr>\n",
       "    <tr>\n",
       "      <th>MTX - Presiunea aerului_Valoare [mbar]</th>\n",
       "      <td>25431.0</td>\n",
       "      <td>990.103609</td>\n",
       "      <td>29.271938</td>\n",
       "      <td>805.700000</td>\n",
       "      <td>975.033333</td>\n",
       "      <td>1000.500000</td>\n",
       "      <td>1008.340000</td>\n",
       "      <td>1100.000000</td>\n",
       "    </tr>\n",
       "    <tr>\n",
       "      <th>MTX - Temperatura aer_Valoare [°C]</th>\n",
       "      <td>25645.0</td>\n",
       "      <td>12.409086</td>\n",
       "      <td>9.203435</td>\n",
       "      <td>-19.123333</td>\n",
       "      <td>5.050000</td>\n",
       "      <td>12.580000</td>\n",
       "      <td>20.300000</td>\n",
       "      <td>38.932500</td>\n",
       "    </tr>\n",
       "    <tr>\n",
       "      <th>MTX - Umiditate relativa_Valoare [%]</th>\n",
       "      <td>25129.0</td>\n",
       "      <td>74.144727</td>\n",
       "      <td>15.292521</td>\n",
       "      <td>6.000000</td>\n",
       "      <td>63.500000</td>\n",
       "      <td>75.166667</td>\n",
       "      <td>86.000000</td>\n",
       "      <td>100.000000</td>\n",
       "    </tr>\n",
       "  </tbody>\n",
       "</table>\n",
       "</div>"
      ],
      "text/plain": [
       "                                          count        mean        std  \\\n",
       "42i - NO2_Valoare [µg/m³]                9682.0   20.781629  13.629018   \n",
       "43i - SO2_Valoare [µg/m³]               10839.0    8.051944   4.384233   \n",
       "48i - CO_Valoare [mg/m³]                 8367.0    0.678921   0.492437   \n",
       "GRAV. 10 - PM 10_Valoare [µg/m³]        24055.0   26.929215  14.887876   \n",
       "GRAV. 2.5 - PM 2.5_Valoare [µg/m³]      18154.0   17.087652  12.181133   \n",
       "MTX - Presiunea aerului_Valoare [mbar]  25431.0  990.103609  29.271938   \n",
       "MTX - Temperatura aer_Valoare [°C]      25645.0   12.409086   9.203435   \n",
       "MTX - Umiditate relativa_Valoare [%]    25129.0   74.144727  15.292521   \n",
       "\n",
       "                                               min         25%          50%  \\\n",
       "42i - NO2_Valoare [µg/m³]                -6.790000   10.562500    17.750000   \n",
       "43i - SO2_Valoare [µg/m³]                -0.275000    4.960000     6.746667   \n",
       "48i - CO_Valoare [mg/m³]                 -0.303333    0.390000     0.570000   \n",
       "GRAV. 10 - PM 10_Valoare [µg/m³]          0.970000   17.260000    23.960000   \n",
       "GRAV. 2.5 - PM 2.5_Valoare [µg/m³]        0.000000    9.610000    13.960000   \n",
       "MTX - Presiunea aerului_Valoare [mbar]  805.700000  975.033333  1000.500000   \n",
       "MTX - Temperatura aer_Valoare [°C]      -19.123333    5.050000    12.580000   \n",
       "MTX - Umiditate relativa_Valoare [%]      6.000000   63.500000    75.166667   \n",
       "\n",
       "                                                75%          max  \n",
       "42i - NO2_Valoare [µg/m³]                 27.751812   171.540000  \n",
       "43i - SO2_Valoare [µg/m³]                 10.601667   105.010000  \n",
       "48i - CO_Valoare [mg/m³]                   0.812500     5.020000  \n",
       "GRAV. 10 - PM 10_Valoare [µg/m³]          32.855000   230.285714  \n",
       "GRAV. 2.5 - PM 2.5_Valoare [µg/m³]        20.890000   198.310000  \n",
       "MTX - Presiunea aerului_Valoare [mbar]  1008.340000  1100.000000  \n",
       "MTX - Temperatura aer_Valoare [°C]        20.300000    38.932500  \n",
       "MTX - Umiditate relativa_Valoare [%]      86.000000   100.000000  "
      ]
     },
     "execution_count": 5,
     "metadata": {},
     "output_type": "execute_result"
    }
   ],
   "source": [
    "# Check for basic statistical measures\n",
    "df.describe().T"
   ]
  },
  {
   "cell_type": "code",
   "execution_count": 6,
   "id": "de2a76ac-2d1e-4de6-b156-55db29cdc228",
   "metadata": {},
   "outputs": [
    {
     "name": "stdout",
     "output_type": "stream",
     "text": [
      "Column 42i - NO2_Valoare [µg/m³] has 62.57% missing values.\n",
      "Column 43i - SO2_Valoare [µg/m³] has 58.089999999999996% missing values.\n",
      "Column 48i - CO_Valoare [mg/m³] has 67.65% missing values.\n",
      "Column GRAV. 2.5 - PM 2.5_Valoare [µg/m³] has 29.81% missing values.\n"
     ]
    }
   ],
   "source": [
    "# Calculate the percentage of missing values for each column\n",
    "missing_percentage = df.isna().mean().round(4) * 100\n",
    "\n",
    "# Print columns with more than 25% missing values\n",
    "for col, missing in missing_percentage.items():\n",
    "    if missing > 20:\n",
    "        print(f\"Column {col} has {missing}% missing values.\")"
   ]
  },
  {
   "cell_type": "markdown",
   "id": "ff184875-48c0-4089-bd28-4e46d7d46b20",
   "metadata": {},
   "source": [
    "- We can see that columns 42i - NO2_Valoare [µg/m³], 43i - SO2_Valoare [µg/m³] and 48i - CO_Valoare [mg/m³] have more than 50% missing values so we will decide to drop them.\n",
    "- For the rest of the columns, we will just drop the rows since I don't believe in polluting the missing values with imputation methods like ffill, bfill, mean, median, etc."
   ]
  },
  {
   "cell_type": "markdown",
   "id": "1d258e2a-98d1-4a84-8ffa-640eb8d95af2",
   "metadata": {},
   "source": [
    "### Clean dataset"
   ]
  },
  {
   "cell_type": "code",
   "execution_count": 7,
   "id": "bafa7006-41ca-4b1c-afb6-e2e544a47392",
   "metadata": {},
   "outputs": [],
   "source": [
    "df.drop(['42i - NO2_Valoare [µg/m³]', '43i - SO2_Valoare [µg/m³]', '48i - CO_Valoare [mg/m³]', 'GRAV. 2.5 - PM 2.5_Valoare [µg/m³]', 'article_date'], axis=1, inplace=True)\n",
    "df = df.dropna().reset_index(drop=True)"
   ]
  },
  {
   "cell_type": "code",
   "execution_count": 8,
   "id": "c562d296-d5b7-46f2-8efd-846915660567",
   "metadata": {},
   "outputs": [],
   "source": [
    "actual_rows = df.shape[0]\n",
    "actual_cols = df.shape[1]"
   ]
  },
  {
   "cell_type": "code",
   "execution_count": 9,
   "id": "5b94f2c3-586f-44fa-b79d-76963bd68bf7",
   "metadata": {},
   "outputs": [
    {
     "name": "stdout",
     "output_type": "stream",
     "text": [
      "Lost rows: 2542 (9.828%)\n",
      "Lows columns 5 (38.462%)\n"
     ]
    }
   ],
   "source": [
    "print(f'Lost rows: {initial_rows-actual_rows} ({round((initial_rows-actual_rows)/initial_rows*100, 3)}%)')\n",
    "print(f'Lows columns {initial_cols-actual_cols} ({round((initial_cols-actual_cols)/initial_cols*100, 3)}%)')"
   ]
  },
  {
   "cell_type": "markdown",
   "id": "6c564d79-6c35-41e2-bc55-5c9757a5eca1",
   "metadata": {},
   "source": [
    "We can assume that even though some data is lost, we still have a sufficiently large number of rows to perform a conclusive analysis."
   ]
  },
  {
   "cell_type": "markdown",
   "id": "1b26de1e-2bc4-4352-a92b-a7611ebe3a12",
   "metadata": {},
   "source": [
    "### Reorder dataframe columns"
   ]
  },
  {
   "cell_type": "code",
   "execution_count": 10,
   "id": "924b8a0b-0260-4cc6-b8b4-6c38f4e0b927",
   "metadata": {},
   "outputs": [],
   "source": [
    "# Reorder columns\n",
    "new_column_order = ['Luna/Zi', 'region', 'County', 'phenomena',\n",
    "                    'GRAV. 10 - PM 10_Valoare [µg/m³]', 'MTX - Presiunea aerului_Valoare [mbar]', \n",
    "                    'MTX - Temperatura aer_Valoare [°C]', 'MTX - Umiditate relativa_Valoare [%]']\n",
    "\n",
    "df = df[new_column_order]"
   ]
  },
  {
   "cell_type": "markdown",
   "id": "d87deaa8-6a8c-4acc-a661-4bdb831273e1",
   "metadata": {},
   "source": [
    "### Export this dataset"
   ]
  },
  {
   "cell_type": "code",
   "execution_count": 11,
   "id": "de9d5e39-0d23-4904-a5b6-78b7b3de7f51",
   "metadata": {},
   "outputs": [],
   "source": [
    "df.to_csv(\"../data/datasets/dataset_cleaned.csv\", index=False)"
   ]
  },
  {
   "cell_type": "code",
   "execution_count": null,
   "id": "ebf66804-8485-4872-accf-5f0d67a69282",
   "metadata": {},
   "outputs": [],
   "source": []
  }
 ],
 "metadata": {
  "kernelspec": {
   "display_name": "Python 3 (ipykernel)",
   "language": "python",
   "name": "python3"
  },
  "language_info": {
   "codemirror_mode": {
    "name": "ipython",
    "version": 3
   },
   "file_extension": ".py",
   "mimetype": "text/x-python",
   "name": "python",
   "nbconvert_exporter": "python",
   "pygments_lexer": "ipython3",
   "version": "3.10.8"
  }
 },
 "nbformat": 4,
 "nbformat_minor": 5
}
