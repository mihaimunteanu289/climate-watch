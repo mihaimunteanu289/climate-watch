{
 "cells": [
  {
   "cell_type": "markdown",
   "id": "08e13806-75d4-4f97-8346-861e7a68642e",
   "metadata": {},
   "source": [
    "### Import libraries"
   ]
  },
  {
   "cell_type": "code",
   "execution_count": null,
   "id": "4b47579a-b520-490e-a2de-6b5985d81982",
   "metadata": {},
   "outputs": [],
   "source": [
    "import pandas as pd\n",
    "import numpy as np\n",
    "import re\n",
    "\n",
    "pd.set_option('display.max_columns', None)  # None means unlimited columns"
   ]
  },
  {
   "cell_type": "markdown",
   "id": "ce783cb9-d8ee-4a96-9c72-482e0f9fd18c",
   "metadata": {},
   "source": [
    "### Read datasets"
   ]
  },
  {
   "cell_type": "code",
   "execution_count": null,
   "id": "8443de30-5128-4e15-81e4-f2cb4b8cc56c",
   "metadata": {},
   "outputs": [],
   "source": [
    "df = pd.read_excel(\"../data/data_tabular/raport_bucuresti.xls\", skiprows=7, header=[0, 1, 3])"
   ]
  },
  {
   "cell_type": "markdown",
   "id": "4deeb727-5c56-451e-a9dc-6ab2d7ce0350",
   "metadata": {},
   "source": [
    "### Preprocess dataframe"
   ]
  },
  {
   "cell_type": "code",
   "execution_count": null,
   "id": "5659d6b5-6b23-4a1c-9268-af0851a86065",
   "metadata": {},
   "outputs": [],
   "source": [
    "# Save data in a temp df\n",
    "data = df.set_index('Luna/Zi').reset_index()[['Luna/Zi']]\n",
    "\n",
    "# Drop it from the original df\n",
    "df.drop(['Luna/Zi'], axis=1, inplace=True)\n",
    "\n",
    "# Reshape the date column in a proper format\n",
    "def tuple_to_datetime(t):\n",
    "    year_month, day = t[0].split(\"-\")\n",
    "    day = day.strip(',')\n",
    "    return pd.to_datetime(f\"{year_month}-{day}\")\n",
    "\n",
    "# Apply the function to the 'Luna/Zi' column\n",
    "data['Luna/Zi'] = data['Luna/Zi'].apply(tuple_to_datetime)\n",
    "data['Luna/Zi'] = pd.to_datetime(data['Luna/Zi'], format='%Y%m-%d')\n",
    "\n",
    "# Set the index as date:\n",
    "df.index = data['Luna/Zi']"
   ]
  },
  {
   "cell_type": "code",
   "execution_count": null,
   "id": "46e07220-00ec-4472-be00-a54c15c7f954",
   "metadata": {},
   "outputs": [],
   "source": [
    "# Merge level 1 and level 2 of our dataframe\n",
    "def merge_levels(df, levels_to_merge):\n",
    "    new_levels = df.columns.to_frame()\n",
    "    new_levels['merged'] = new_levels[levels_to_merge].apply(lambda row: '_'.join(row), axis=1)\n",
    "    \n",
    "    for level in levels_to_merge:\n",
    "        new_levels.drop(level, axis=1, inplace=True)\n",
    "    \n",
    "    df.columns = pd.MultiIndex.from_frame(new_levels)\n",
    "    return df\n",
    "\n",
    "df = merge_levels(df, [1, 2])"
   ]
  },
  {
   "cell_type": "code",
   "execution_count": null,
   "id": "fe80a402-8822-447f-8676-9ae5a09a6dc9",
   "metadata": {},
   "outputs": [],
   "source": [
    "# Stack the dataframe in order to keep only the variables as columns, but date and region as indexes\n",
    "df = df.stack(0)\n",
    "\n",
    "# Set the proper index\n",
    "df = df.reset_index()\n",
    "df.rename({0:'County'}, axis=1, inplace=True)"
   ]
  },
  {
   "cell_type": "code",
   "execution_count": null,
   "id": "0569e5ee-d6c2-4b94-88bd-84b6ce664f6d",
   "metadata": {},
   "outputs": [],
   "source": [
    "# Convert all the columns to numeric dtype and replace with NaN if any special character's been found\n",
    "for col in df.columns[2:]:\n",
    "    df[col] = pd.to_numeric(df[col], errors='coerce')"
   ]
  },
  {
   "cell_type": "code",
   "execution_count": null,
   "id": "bdc8a301-d96c-49bf-a4be-0b81618bb484",
   "metadata": {},
   "outputs": [],
   "source": [
    "# Extract the letter corresponding to each county\n",
    "def extract_letters(s):\n",
    "    match = re.search(r'^([a-zA-Z]+)', s)\n",
    "    if match:\n",
    "        return match.group(1)\n",
    "    else:\n",
    "        return None\n",
    "    \n",
    "county = extract_letters(df['County'][0])\n",
    "df.drop('County', axis=1, inplace=True)"
   ]
  },
  {
   "cell_type": "code",
   "execution_count": null,
   "id": "40f0f1e7-4b23-4ff6-bfbb-6ce3eeb410e0",
   "metadata": {},
   "outputs": [],
   "source": [
    "# Compute the average for each station from the same County to handle the missing values\n",
    "def average_non_nan(group):\n",
    "    return group.apply(lambda x: np.sum(x) / np.count_nonzero(~np.isnan(x)) if np.count_nonzero(~np.isnan(x)) else np.nan)\n",
    "\n",
    "# Group by 'Luna/Zi' and apply the custom function to each group\n",
    "df = df.groupby('Luna/Zi').apply(average_non_nan)\n",
    "df.insert(loc=0, column='County', value=county)"
   ]
  },
  {
   "cell_type": "code",
   "execution_count": null,
   "id": "8fb8ac10-092e-4be0-8ee5-d606c4b7c5ee",
   "metadata": {},
   "outputs": [],
   "source": [
    "df.to_excel(\"../data/data_tabular/timisoara_preprocessed.xlsx\")"
   ]
  },
  {
   "cell_type": "code",
   "execution_count": null,
   "id": "7401cfe9-f300-4299-974b-525962488c57",
   "metadata": {},
   "outputs": [],
   "source": []
  }
 ],
 "metadata": {
  "kernelspec": {
   "display_name": "Python 3 (ipykernel)",
   "language": "python",
   "name": "python3"
  },
  "language_info": {
   "codemirror_mode": {
    "name": "ipython",
    "version": 3
   },
   "file_extension": ".py",
   "mimetype": "text/x-python",
   "name": "python",
   "nbconvert_exporter": "python",
   "pygments_lexer": "ipython3",
   "version": "3.10.8"
  }
 },
 "nbformat": 4,
 "nbformat_minor": 5
}
