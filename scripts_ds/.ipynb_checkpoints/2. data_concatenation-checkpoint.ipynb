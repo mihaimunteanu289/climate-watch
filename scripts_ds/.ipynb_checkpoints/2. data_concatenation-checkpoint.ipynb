{
 "cells": [
  {
   "cell_type": "markdown",
   "id": "07f09e4c-3ba6-4701-a08d-7c254bd83b0a",
   "metadata": {},
   "source": [
    "### Import libraries"
   ]
  },
  {
   "cell_type": "code",
   "execution_count": null,
   "id": "78c29a0d-e3df-4195-8337-91b1656e8b3d",
   "metadata": {},
   "outputs": [],
   "source": [
    "import pandas as pd\n",
    "import os"
   ]
  },
  {
   "cell_type": "markdown",
   "id": "ffc78e95-eee3-4d83-b1ce-7f483581a16c",
   "metadata": {},
   "source": [
    "### Read dataframes"
   ]
  },
  {
   "cell_type": "code",
   "execution_count": null,
   "id": "8a0312ed-a107-4a81-bf3c-4d5825efc7fe",
   "metadata": {},
   "outputs": [],
   "source": [
    "file_names = ['bucuresti_preprocessed.xlsx', \n",
    "              'iasi_preprocessed.xlsx', \n",
    "              'cluj_preprocessed.xlsx', \n",
    "              'dolj_preprocessed.xlsx',\n",
    "              'timisoara_preprocessed.xlsx',\n",
    "              'constanta_preprocessed.xlsx',\n",
    "              'brasov_preprocessed.xlsx']\n",
    "\n",
    "path_to_files = '../data/data_tabular/'  # replace with your directory path\n",
    "dfs = {file: pd.read_excel(os.path.join(path_to_files, file)) for file in file_names}"
   ]
  },
  {
   "cell_type": "markdown",
   "id": "543b0058-79ac-42d2-a4bc-9ab1b4fec542",
   "metadata": {},
   "source": [
    "### Concatenate dataframes"
   ]
  },
  {
   "cell_type": "code",
   "execution_count": null,
   "id": "5f4db0a1-33cb-479b-9ebf-e35a3249a18c",
   "metadata": {},
   "outputs": [],
   "source": [
    "df = pd.concat(dfs.values(), axis=0, ignore_index=True, sort=False)"
   ]
  },
  {
   "cell_type": "markdown",
   "id": "5546990f-d12a-450e-bdab-49770cde077e",
   "metadata": {},
   "source": [
    "### Export dataframe"
   ]
  },
  {
   "cell_type": "code",
   "execution_count": null,
   "id": "e46910ab-ebfd-4b8c-b7b5-41250bb86337",
   "metadata": {},
   "outputs": [],
   "source": [
    "df.to_excel('../data/data_tabular/counties_preprocessed.xlsx', index=False)"
   ]
  },
  {
   "cell_type": "code",
   "execution_count": null,
   "id": "594db710-3dae-45c1-adc8-2c7dee295cc8",
   "metadata": {},
   "outputs": [],
   "source": []
  }
 ],
 "metadata": {
  "kernelspec": {
   "display_name": "Python 3 (ipykernel)",
   "language": "python",
   "name": "python3"
  },
  "language_info": {
   "codemirror_mode": {
    "name": "ipython",
    "version": 3
   },
   "file_extension": ".py",
   "mimetype": "text/x-python",
   "name": "python",
   "nbconvert_exporter": "python",
   "pygments_lexer": "ipython3",
   "version": "3.10.8"
  }
 },
 "nbformat": 4,
 "nbformat_minor": 5
}
