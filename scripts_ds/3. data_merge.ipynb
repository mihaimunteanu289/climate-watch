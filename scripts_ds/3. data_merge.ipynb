{
 "cells": [
  {
   "cell_type": "markdown",
   "id": "c5c074cb-ef18-4fc8-bb8e-3c9dafd52252",
   "metadata": {},
   "source": [
    "### Import libraries"
   ]
  },
  {
   "cell_type": "code",
   "execution_count": 1,
   "id": "a1aa9d84-4e84-4a80-a835-6e4b5b2e6e19",
   "metadata": {},
   "outputs": [],
   "source": [
    "import pandas as pd\n",
    "import warnings\n",
    "import ast\n",
    "\n",
    "warnings.simplefilter(action = \"ignore\", category = FutureWarning)"
   ]
  },
  {
   "cell_type": "markdown",
   "id": "69d96cec-9582-4247-9b28-f80ffb2ea057",
   "metadata": {},
   "source": [
    "### Read datasets"
   ]
  },
  {
   "cell_type": "code",
   "execution_count": 2,
   "id": "566d0664-267a-46e2-81e6-34d72dc4dddd",
   "metadata": {},
   "outputs": [],
   "source": [
    "df_counties = pd.read_excel('../data/data_tabular/counties_preprocessed.xlsx')\n",
    "df_phenomena = pd.read_excel('../data/data_crawl/meteo_history.xlsx')"
   ]
  },
  {
   "cell_type": "markdown",
   "id": "09211a56-4274-4bd5-a5b8-5cc2bca5277c",
   "metadata": {},
   "source": [
    "### Drop rows where phenomena was not extract correctly"
   ]
  },
  {
   "cell_type": "code",
   "execution_count": 3,
   "id": "f062d632-6fc5-4120-b4d8-d1ef2ff0a126",
   "metadata": {},
   "outputs": [],
   "source": [
    "def is_convertible_to_list(s):\n",
    "    try:\n",
    "        ast.literal_eval(s)\n",
    "        return True\n",
    "    except (ValueError, SyntaxError):\n",
    "        return False\n",
    "\n",
    "# Filter out rows that cannot be converted to lists\n",
    "df_phenomena = df_phenomena[df_phenomena['region_phenomena'].apply(is_convertible_to_list)].reset_index(drop=True)"
   ]
  },
  {
   "cell_type": "markdown",
   "id": "4d7ba712-f49b-402c-a4f2-a889bf7de3bf",
   "metadata": {},
   "source": [
    "### Get the column ready to be exploded"
   ]
  },
  {
   "cell_type": "code",
   "execution_count": 4,
   "id": "6814f057-b092-4d77-841e-305ced355ed9",
   "metadata": {
    "tags": []
   },
   "outputs": [],
   "source": [
    "# Normalize the 'region_phenomena' column to include regions and phenomena\n",
    "def normalize_region_and_phenomena(row):\n",
    "    region_phenomena_pairs = []\n",
    "    region_phenomena_list = ast.literal_eval(row['region_phenomena'])\n",
    "    for region_dict in region_phenomena_list:\n",
    "        for region, phenomena in region_dict.items():\n",
    "            region_phenomena_pairs.append({\n",
    "                'region': region,\n",
    "                'phenomena': phenomena\n",
    "            })\n",
    "    return region_phenomena_pairs\n",
    "\n",
    "df_phenomena['region_phenomena_pairs'] = df_phenomena.apply(normalize_region_and_phenomena, axis=1)"
   ]
  },
  {
   "cell_type": "markdown",
   "id": "3b754b99-aeb3-4a73-ae69-36ffdba4849a",
   "metadata": {},
   "source": [
    "### Explode the column region_phenomena_pairs and drop the unnecessary ones"
   ]
  },
  {
   "cell_type": "code",
   "execution_count": 5,
   "id": "968d7ade-fcf9-4669-98ac-b223c4fca7fc",
   "metadata": {},
   "outputs": [],
   "source": [
    "# Explode the 'region_phenomena_pairs' column\n",
    "df_phenomena = df_phenomena.explode('region_phenomena_pairs')\n",
    "\n",
    "# Create new columns for 'region' and 'phenomena'\n",
    "df_phenomena['region'] = df_phenomena['region_phenomena_pairs'].apply(lambda x: x['region'] if pd.notna(x) else None)\n",
    "df_phenomena['phenomena'] = df_phenomena['region_phenomena_pairs'].apply(lambda x: x['phenomena'] if pd.notna(x) else None)\n",
    "\n",
    "# Drop the 'region_phenomena_pairs' column as it's no longer needed\n",
    "df_phenomena.drop(['region_phenomena_pairs', 'region_phenomena'], axis=1, inplace=True)\n",
    "# Drop rows where phenomena is empty list\n",
    "df_phenomena = df_phenomena.loc[df_phenomena['phenomena'].apply(lambda x: x != [])]\n",
    "\n",
    "df_phenomena['article_date'] = pd.to_datetime(df_phenomena['article_date'])\n",
    "df_phenomena['article_date'] = df_phenomena['article_date'].dt.strftime('%d-%m-%Y')"
   ]
  },
  {
   "cell_type": "code",
   "execution_count": 6,
   "id": "1613987f-94b0-489f-b898-1b9a0c4bff18",
   "metadata": {},
   "outputs": [
    {
     "name": "stderr",
     "output_type": "stream",
     "text": [
      "C:\\Users\\Mihigh\\AppData\\Local\\Temp\\ipykernel_3140\\3184267362.py:3: UserWarning: Parsing dates in DD/MM/YYYY format when dayfirst=False (the default) was specified. This may lead to inconsistently parsed dates! Specify a format to ensure consistent parsing.\n",
      "  df_phenomena['article_date'] = pd.to_datetime(df_phenomena['article_date'])\n"
     ]
    }
   ],
   "source": [
    "df_phenomena = df_phenomena.groupby(['article_date', 'region'])['phenomena'].sum()\n",
    "df_phenomena = df_phenomena.reset_index()\n",
    "df_phenomena['article_date'] = pd.to_datetime(df_phenomena['article_date'])\n",
    "df_phenomena.sort_values('article_date', inplace=True)\n",
    "df_phenomena.reset_index(drop=True, inplace=True)"
   ]
  },
  {
   "cell_type": "markdown",
   "id": "95fb1be1-c06d-425e-b248-3b050b7c2a64",
   "metadata": {},
   "source": [
    "### Perform mapping"
   ]
  },
  {
   "cell_type": "code",
   "execution_count": 7,
   "id": "295f83f3-6f91-4798-81b3-796e7fe7a223",
   "metadata": {},
   "outputs": [],
   "source": [
    "regions = df_phenomena.region.value_counts(dropna=False).head(9).index.to_list()\n",
    "counties = df_counties.County.value_counts(dropna=False).index.to_list()"
   ]
  },
  {
   "cell_type": "markdown",
   "id": "05cff57b-2d91-4ae1-990c-bd5099295cc1",
   "metadata": {},
   "source": [
    "- Muntenia - B\n",
    "- Transilvania - CJ, BV\n",
    "- Dobrogea - CT\n",
    "- Moldova - IS\n",
    "- Oltenia - DJ\n",
    "- Banat - TM\n",
    "- Maramureș - NaN\n",
    "- Bucovina - NaN\n",
    "- Crișana - NaN"
   ]
  },
  {
   "cell_type": "code",
   "execution_count": 8,
   "id": "1136297c-a0f8-4c03-b2fc-dde740ffcea6",
   "metadata": {
    "tags": []
   },
   "outputs": [],
   "source": [
    "# Create a mapping dictionary\n",
    "region_mapping = {\n",
    "    'Muntenia': 'B',\n",
    "    'Transilvania': 'CJ, BV',\n",
    "    'Dobrogea': 'CT',\n",
    "    'Moldova': 'IS',\n",
    "    'Oltenia': 'DJ',\n",
    "    'Banat': 'TM',\n",
    "    'Maramureș': 'NaN',\n",
    "    'Bucovina': 'NaN',\n",
    "    'Crișana': 'NaN'\n",
    "}\n",
    "\n",
    "# Map the 'region' column to the new values\n",
    "df_phenomena['County'] = df_phenomena['region'].map(region_mapping)\n",
    "\n",
    "# If you want to replace NaN strings with actual NaN values\n",
    "df_phenomena['County'].replace('NaN', pd.NA, inplace=True)\n",
    "\n",
    "# Split the 'County' values by the comma and explode the DataFrame\n",
    "df_phenomena['County'] = df_phenomena['County'].str.split(', ')\n",
    "df_phenomena = df_phenomena.explode('County').reset_index(drop=True)\n",
    "\n",
    "df_phenomena = df_phenomena.dropna().reset_index(drop=True)"
   ]
  },
  {
   "cell_type": "markdown",
   "id": "6ebce963-6354-4472-b2b7-c4eaf5b04d60",
   "metadata": {},
   "source": [
    "### Merge the 2 dataframes"
   ]
  },
  {
   "cell_type": "code",
   "execution_count": 9,
   "id": "540bfefe-aa66-493b-bef1-c2f748829dc0",
   "metadata": {},
   "outputs": [
    {
     "name": "stderr",
     "output_type": "stream",
     "text": [
      "C:\\Users\\Mihigh\\AppData\\Local\\Temp\\ipykernel_3140\\1053437256.py:3: UserWarning: Parsing dates in DD/MM/YYYY format when dayfirst=False (the default) was specified. This may lead to inconsistently parsed dates! Specify a format to ensure consistent parsing.\n",
      "  df_counties['Luna/Zi'] = pd.to_datetime(df_counties['Luna/Zi'])\n"
     ]
    }
   ],
   "source": [
    "# Make sure the datetime columns are the same\n",
    "df_counties['Luna/Zi'] = df_counties['Luna/Zi'].dt.strftime('%d-%m-%Y')\n",
    "df_counties['Luna/Zi'] = pd.to_datetime(df_counties['Luna/Zi'])\n",
    "df = pd.merge(df_counties, df_phenomena, how='left', left_on=['Luna/Zi', 'County'], right_on=['article_date', 'County'])"
   ]
  },
  {
   "cell_type": "code",
   "execution_count": 10,
   "id": "6f5c507b-9c5b-4fb3-9b14-595ad17a1fa2",
   "metadata": {},
   "outputs": [],
   "source": [
    "df = pd.merge(df_counties, df_phenomena, how='inner', left_on=['Luna/Zi', 'County'], right_on=['article_date', 'County'])"
   ]
  },
  {
   "cell_type": "markdown",
   "id": "e442c905-ab78-4f3b-977b-81c8d483dcbe",
   "metadata": {},
   "source": [
    "### Export dataframe"
   ]
  },
  {
   "cell_type": "code",
   "execution_count": 12,
   "id": "219e039f-85f6-4371-aee6-e514d74831a0",
   "metadata": {},
   "outputs": [],
   "source": [
    "df.to_csv('../data/datasets/dataset_merged.csv', index=False)"
   ]
  },
  {
   "cell_type": "code",
   "execution_count": null,
   "id": "ceea967c-066d-457a-a091-efc4d765fdb8",
   "metadata": {},
   "outputs": [],
   "source": []
  }
 ],
 "metadata": {
  "kernelspec": {
   "display_name": "Python 3 (ipykernel)",
   "language": "python",
   "name": "python3"
  },
  "language_info": {
   "codemirror_mode": {
    "name": "ipython",
    "version": 3
   },
   "file_extension": ".py",
   "mimetype": "text/x-python",
   "name": "python",
   "nbconvert_exporter": "python",
   "pygments_lexer": "ipython3",
   "version": "3.10.8"
  }
 },
 "nbformat": 4,
 "nbformat_minor": 5
}
